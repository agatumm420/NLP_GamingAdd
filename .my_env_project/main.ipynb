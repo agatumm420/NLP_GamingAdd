{
 "cells": [
  {
   "cell_type": "code",
   "execution_count": 1,
   "metadata": {
    "ExecuteTime": {
     "start_time": "2023-04-19T14:50:36.092747Z",
     "end_time": "2023-04-19T14:50:36.793636Z"
    }
   },
   "outputs": [],
   "source": [
    "import numpy as np\n",
    "import pandas as pd\n",
    "import matplotlib.pyplot as plt\n",
    "import time\n",
    "from scipy import stats\n",
    "import openai\n",
    "import os\n",
    "from dotenv import load_dotenv\n",
    "import difflib\n",
    "from urllib3.util import Retry\n",
    "from requests.adapters import HTTPAdapter"
   ]
  },
  {
   "cell_type": "code",
   "execution_count": null,
   "metadata": {},
   "outputs": [],
   "source": [
    "from transformers import AutoTokenizer, AutoModel\n",
    "\n",
    "tokenizer = AutoTokenizer.from_pretrained('allegro/herbert-base-cased')\n",
    "bert_model = AutoModel.from_pretrained(\"allegro/herbert-base-cased\")"
   ]
  },
  {
   "cell_type": "code",
   "execution_count": null,
   "metadata": {
    "ExecuteTime": {
     "start_time": "2023-04-17T15:05:44.895913Z",
     "end_time": "2023-04-17T15:52:13.854327Z"
    }
   },
   "outputs": [],
   "source": [
    "#PREFERED SOLUTION but needs a better vocab \n",
    "import phunspell\n",
    "import spacy\n",
    "from spacy.tokens import Doc, Token,Span\n",
    "from spacy.language import Language\n",
    "import requests\n",
    "from spacy.pipeline import Sentencizer\n",
    "pspell = phunspell.Phunspell('pl_PL')\n",
    "nlp = spacy.load(\"pl_core_news_sm\")\n",
    "import pl_core_news_sm\n",
    "nlp = pl_core_news_sm.load()\n",
    "nlp_clean=spacy.load(\"pl_core_news_md\")\n",
    "nlp.vocab.strings.add(\"GAMER\")\n",
    "trained_ner_model = spacy.load(\"gg_ner\")\n",
    "trained_ner = trained_ner_model.get_pipe(\"new_ruler\")\n",
    "ner=nlp.get_pipe(\"ner\")\n",
    "Token.set_extension(\"is_gamer_entity\", default=False, force=True)\n",
    "load_dotenv()\n",
    "# @Language.component(\"set_gamer_entities\")\n",
    "def set_gamer_entities(doc, trained_ner_model):\n",
    "    first_doc=doc\n",
    "    doc = trained_ner(doc)\n",
    "\n",
    "    for token in doc:\n",
    "        for token_ready in first_doc:\n",
    "            token_ready._.is_gamer_entity = False\n",
    "            if token.ent_type_ == \"GAMER\" and token.text== token_ready.text:\n",
    "                token_ready._.is_gamer_entity = True\n",
    "\n",
    "   \n",
    "        nlp.get_pipe(\"ner\").add_label(\"GAMER\")\n",
    "    return first_doc\n",
    "def find_most_similar_word_in_sentence(word, sentence):\n",
    "    words = sentence.split()\n",
    "    closest_matches = difflib.get_close_matches(word, words, n=1)\n",
    "    return closest_matches[0] if closest_matches else None\n",
    "@Language.factory(\"gg_ner\", default_config={\"trained_ner_model\": trained_ner_model},)\n",
    "def custom_ner_factory(nlp, name, trained_ner_model):\n",
    "    def custom_ner(doc):\n",
    "        return set_gamer_entities(doc, trained_ner_model)\n",
    "\n",
    "    return custom_ner\n",
    "# def custom_ner_component(doc):\n",
    "#     trained_ner_model = spacy.load(\"gg_ner\")\n",
    "#     trained_doc = trained_ner_model(doc.text)\n",
    "#     merged_doc = merge_entities(trained_doc, doc)\n",
    "#     return merged_doc\n",
    "# def custom_ner_factory(trained_ner_model, labels):\n",
    "#     def custom_ner(doc):\n",
    "#         return custom_ner_component(doc, trained_ner_model, labels)\n",
    "#     return custom_ner\n",
    "\n",
    "def query_gpt(prompt):\n",
    "    openai.api_key = os.getenv('API_KEY')\n",
    "\n",
    "    response = openai.Completion.create(\n",
    "    model=\"text-davinci-003\",\n",
    "    prompt=prompt,\n",
    "    temperature=0.7,\n",
    "    max_tokens=256,\n",
    "    top_p=1,\n",
    "    frequency_penalty=0,\n",
    "    presence_penalty=0\n",
    ")\n",
    "    return response['choices'][0]['text'].strip()\n",
    "    # if response.status_code == 200:\n",
    "    #     return response.json()['choices'][0]['text'].strip()\n",
    "    # else:\n",
    "    #     raise Exception(f\"Error: {response.status_code}, {response.text}\")\n",
    "def check_word_context(word, context):\n",
    "    word_doc = nlp_clean(word)\n",
    "    context_doc = nlp_clean(context)\n",
    "\n",
    "    if not word_doc or not word_doc[0].has_vector:\n",
    "        print(\"The word does not have a vector representation.\")\n",
    "        return 0.0  # Return a default value when the word doesn't have a vector representation\n",
    "\n",
    "    similarity_scores = [word_doc[0].similarity(token) for token in context_doc if token.has_vector]\n",
    "    avg_similarity = sum(similarity_scores) / len(similarity_scores)\n",
    "\n",
    "    return avg_similarity\n",
    "def find_most_similar_token(word, tokens):\n",
    "    token_texts = [token.text for token in tokens]\n",
    "    closest_matches = difflib.get_close_matches(word, token_texts, n=1)\n",
    "    return closest_matches[0] if closest_matches else None\n",
    "def chat_gpt_query(prompt, api_key):\n",
    "    headers = {\n",
    "        'Content-Type': 'application/json',\n",
    "        'Authorization': f'Bearer {api_key}'\n",
    "    }\n",
    "\n",
    "    data = {\n",
    "        'model': \"text-davinci-003\",\n",
    "        \"prompt\":prompt,\n",
    "        'max_tokens': 256,\n",
    "        'n': 1,\n",
    "        'stop': None,\n",
    "        'temperature': 0.7\n",
    "    }\n",
    "    retry_strategy = Retry(\n",
    "        total=3,  # Number of retries\n",
    "        backoff_factor=1,\n",
    "        status_forcelist=[429, 500, 502, 503, 504],\n",
    "        method_whitelist=[\"HEAD\", \"GET\", \"OPTIONS\", \"POST\"]\n",
    "    )\n",
    "\n",
    "    adapter = HTTPAdapter(max_retries=retry_strategy)\n",
    "    http = requests.Session()\n",
    "    http.mount(\"https://\", adapter)\n",
    "    http.mount(\"http://\", adapter)\n",
    "\n",
    "    response = http.post('https://api.openai.com/v1/completions', json=data, headers=headers, timeout=200)\n",
    "    # response = requests.post('https://api.openai.com/v1/completions', headers=headers, json=data, timeout=200)\n",
    "\n",
    "    if response.status_code == 200:\n",
    "        return response.json()['choices'][0]['text'].strip()\n",
    "    else:\n",
    "        raise Exception(f\"Error: {response.status_code}, {response.text}\")\n",
    "def alt_solution(doc):\n",
    "    print(f\"Passed in : {doc.text}\")\n",
    "    translation_table = str.maketrans(\"ABCDEFGHIJKLMNOPQRSTUVWXYZ\", \"abcdefghijklmnopqrstuvwxyz\")\n",
    "    l=[]\n",
    "    for i, sent in enumerate(doc.sents):\n",
    "        print(f\"Start of a sent: {sent}\")\n",
    "        sent_arr=[]\n",
    "        skip_sentence = False\n",
    "        for old_token in sent:\n",
    "            print(f\"strat token\")\n",
    "            old_token_text=old_token.text\n",
    "            if skip_sentence:\n",
    "                break\n",
    "            if( old_token_text!='' and old_token_text!='.'and old_token_text!=',' and old_token_text!= '?' and old_token_text!='\"' and not old_token._.is_gamer_entity):\n",
    "                if  old_token._.has(\"corrected\"):\n",
    "                    print(f\"{old_token_text}_corrected1\")\n",
    "                    if(old_token_text!=''):\n",
    "                        sent_arr.append(old_token_text)\n",
    "                        print(\"got to the end 1\")\n",
    "                elif(pspell.lookup(old_token_text)):\n",
    "                    print(f\"{old_token_text}_corrected2\")\n",
    "\n",
    "\n",
    "                    if(old_token.pos_=='NOUN' and (old_token_text[-2:]=='ac' or old_token_text[-2:]=='ec') ):\n",
    "                        verbified=nlp_clean(old_token_text[0:-1]+'m')[0]\n",
    "                        print(f\"{verbified}_{verbified.pos_}_verbified\")\n",
    "                        if verbified.pos_=='VERB':\n",
    "                            sent_arr.append(old_token_text[0:-1]+'ć')\n",
    "                        else:\n",
    "                            if(old_token_text!=''):\n",
    "                                sent_arr.append(old_token_text)\n",
    "                    else:\n",
    "                        if(old_token_text!=''):\n",
    "                            sent_arr.append(old_token_text)\n",
    "                    print('made it to the end2')\n",
    "                else:\n",
    "                    print(f\"{old_token.text}_corrected3\")\n",
    "                    new_token=Span(doc, old_token.i, old_token.i+1)\n",
    "                    # break_hit=True\n",
    "                    # break\n",
    "\n",
    "                    corrected=\"\"\n",
    "                    # #\n",
    "                    for index,suggestion in enumerate(pspell.suggest(old_token_text)):\n",
    "\n",
    "                        if index==0:\n",
    "                            # if check_word_context(suggestion, doc.text) > 0.5:\n",
    "                            corrected=suggestion\n",
    "\n",
    "                            print(f\"{old_token_text}_suggested\")\n",
    "                    # else :\n",
    "                    #     l.append(old_token_text)\n",
    "\n",
    "                    # response_text=''\n",
    "                    index=old_token.i\n",
    "                    sentence=old_token.sent\n",
    "                    # new_tokens = [corrected if token.text == old_token_text else token.text for token in doc]\n",
    "                    # new_text = \" \".join(new_tokens)\n",
    "                    print(f\"Request: {sentence}\")\n",
    "                    response_text = query_gpt(f\"Napraw nastepujące zdanie, tak aby pisownia i gramatyka była poprawna, dokonując jak najmniej zmian.Pozostaw bez zmian jeśli zdanie jest poprawne i sensowne- zwróć wtedy odpowiedź 'Bez zmian':{sentence}\")\n",
    "\n",
    "                    print(f\" Response: {response_text}\")\n",
    "                    if(response_text=='Bez zmian' or response_text==' Bez zmian' or response_text==' Bez zmian.'or response_text=='Bez zmian.' or response_text==' Bez zmian.'):\n",
    "                        print(f\"corrected before: {corrected}\")\n",
    "                        if(corrected!=''):\n",
    "                            print(f\"I'm appending this: {corrected}\")\n",
    "                            sent_arr.append(corrected)\n",
    "                    else:\n",
    "                        new_sent=response_text.split()\n",
    "                        sent_arr.clear()\n",
    "                        sent_arr.extend(new_sent)\n",
    "                        skip_sentence = True\n",
    "                        print(\"skipped\")\n",
    "            else:\n",
    "\n",
    "                if(old_token_text=='.' or old_token._.is_gamer_entity or old_token_text==',' and old_token_text== '?'and old_token_text=='\"'):\n",
    "                    print(\"alt option\")\n",
    "                    sent_arr.append(old_token_text)\n",
    "        l.extend(sent_arr)\n",
    "    spaces=[]\n",
    "    for word in l:\n",
    "        print(word)\n",
    "        spaces.append(True)\n",
    "    print(\"pre doc\")\n",
    "    doc2 = Doc(nlp.vocab, words=l, spaces=spaces)\n",
    "    print(f\"{doc.text} final\")\n",
    "    print(\"end\")\n",
    "    return (doc2)\n",
    "@Language.component('pl_double_check')\n",
    "def pl_double_check(doc):\n",
    "\n",
    "    return alt_solution(doc)\n",
    "    # print(\"im here\")\n",
    "    # ents = []\n",
    "    # api_key=os.getenv('API_KEY')\n",
    "    #\n",
    "    # ents = []\n",
    "    #\n",
    "    # # Add the custom NER model's entities to the main model's entities\n",
    "    # trained_doc = trained_ner_model(doc)\n",
    "    # # for ent in doc.ents:\n",
    "    #     # if ent.label_ == \"GAMER\":\n",
    "    #     #     ents.append(Span(doc, ent.start, ent.end, label=\"GAMER\"))\n",
    "    #\n",
    "    # for ent in doc.ents:\n",
    "    #     if ent.label_ != \"\":\n",
    "    #         ents.append(ent)\n",
    "    #\n",
    "    # # doc.ents = ents\n",
    "    # ner = nlp.get_pipe(\"ner\")\n",
    "    # # set_gamer_entities(doc)\n",
    "    # ner(doc)\n",
    "    # translation_table = str.maketrans(\"ABCDEFGHIJKLMNOPQRSTUVWXYZ\", \"abcdefghijklmnopqrstuvwxyz\")\n",
    "    #\n",
    "    #\n",
    "    # l=[]\n",
    "    # skip_iterations=0\n",
    "    # counter = 0\n",
    "    # i = 0\n",
    "    # for old_token in doc :\n",
    "    #     # old_token = doc[i]\n",
    "    #\n",
    "    #     print(\"start of it \")\n",
    "    #     old_token_text =old_token.text.translate(translation_table)\n",
    "    #     # and old_token.ent_type_==None\n",
    "    #     if counter < skip_iterations:\n",
    "    #         counter += 1\n",
    "    #         continue\n",
    "    #\n",
    "    #     if(counter>=skip_iterations and old_token_text!='' and old_token_text!='.'and old_token_text!=',' and old_token_text!= '?' and old_token_text!='\"' and not old_token._.is_gamer_entity):\n",
    "    #         skip_iterations=0\n",
    "    #         if  old_token._.has(\"corrected\"):\n",
    "    #             # print(f\"{old_token_text}_corrected1\")\n",
    "    #             if(old_token_text!=''):\n",
    "    #                 l.append(old_token_text)\n",
    "    #             # print(\"got to the end 1\")\n",
    "    #         elif(pspell.lookup(old_token_text)):\n",
    "    #             # print(f\"{old_token_text}_corrected2\")\n",
    "    #\n",
    "    #\n",
    "    #             if(old_token.pos_=='NOUN' and (old_token_text[-2:]=='ac' or old_token_text[-2:]=='ec') ):\n",
    "    #                 verbified=nlp_clean(old_token_text[0:-1]+'m')[0]\n",
    "    #                 print(f\"{verbified}_{verbified.pos_}_verbified\")\n",
    "    #                 if verbified.pos_=='VERB':\n",
    "    #                     l.append(old_token_text[0:-1]+'ć')\n",
    "    #                 else:\n",
    "    #                     if(old_token_text!=''):\n",
    "    #                         l.append(old_token_text)\n",
    "    #             else:\n",
    "    #                 if(old_token_text!=''):\n",
    "    #                     l.append(old_token_text)\n",
    "    #             # print('made it to the end2')\n",
    "    #\n",
    "    #         else:\n",
    "    #             print(f\"{old_token.text}_corrected3\")\n",
    "    #             new_token=Span(doc, old_token.i, old_token.i+1)\n",
    "    #             # break_hit=True\n",
    "    #             # break\n",
    "    #\n",
    "    #             corrected=\"\"\n",
    "    #             # #\n",
    "    #             for index,suggestion in enumerate(pspell.suggest(old_token_text)):\n",
    "    #\n",
    "    #                 if index==0:\n",
    "    #                     # if check_word_context(suggestion, doc.text) > 0.5:\n",
    "    #                         corrected=suggestion\n",
    "    #\n",
    "    #                         print(f\"{old_token_text}_suggested\")\n",
    "    #                     # else :\n",
    "    #                     #     l.append(old_token_text)\n",
    "    #\n",
    "    #             # response_text=''\n",
    "    #             index=old_token.i\n",
    "    #             sentence=old_token.sent\n",
    "    #             # new_tokens = [corrected if token.text == old_token_text else token.text for token in doc]\n",
    "    #             # new_text = \" \".join(new_tokens)\n",
    "    #             print(f\"Request: {sentence}\")\n",
    "    #             response_text = query_gpt(f\"Napraw nastepujące zdanie, tak aby pisownia i gramatyka była poprawna, dokonując jak najmniej zmian.Pozostaw bez zmian jeśli zdanie jest poprawne i sensowne- zwróć wtedy odpowiedź 'Bez zmian':{sentence}\")\n",
    "    #\n",
    "    #             print(f\" Response: {response_text}\")\n",
    "    #             if(response_text=='Bez zmian'):\n",
    "    #                 if(corrected!=''):\n",
    "    #                     print(f\"I'm appending this: {corrected}\")\n",
    "    #                     l.append(corrected)\n",
    "    #             else:\n",
    "    #                 most_similar_word=\" \"\n",
    "    #             # doc2=nlp_clean(response_text)\n",
    "    #             # rest_of_the_sentence=''\n",
    "    #                 most_similar_word = find_most_similar_word_in_sentence(old_token_text, response_text)\n",
    "    #                 if(most_similar_word==None):\n",
    "    #                     most_similar_word=corrected\n",
    "    #                 if(most_similar_word!=''):\n",
    "    #                     print(f\"I'm appending this: {most_similar_word}\")\n",
    "    #                     l.append(most_similar_word)\n",
    "    #             # print(f\"most similiar word {most_similar_word}\")\n",
    "    #             # print(\"made it to the end 3\")\n",
    "    #             # for token in doc2:\n",
    "    #             #     if( token.i == sentence.end):\n",
    "    #             #         break;\n",
    "    #             #     else:\n",
    "    #             #         if()\n",
    "    #             # skip_iterations=len(old_token.sent)-\n",
    "    #\n",
    "    #             # if(len(doc)==17):\n",
    "    #             #     print(f\"Problem doc !:{old_token_text}\")\n",
    "    #             # if(len(doc)>old_token.i+1 and old_token.i!=0 and len(doc)!=1):\n",
    "    #             #     print('got here 1')\n",
    "    #             #     response_text = chat_gpt_query(f\"Napraw nastepujące zdanie, tak aby pisownia i gramatyka była poprawna, dokonując jak najmniej zmian:{doc[old_token.i - 1].text +old_token_text+doc[old_token.i +1].text }\", api_key)\n",
    "    #             #\n",
    "    #             # elif(len(doc)==old_token.i+1):\n",
    "    #             #     print('got here 2')\n",
    "    #             #     response_text = chat_gpt_query(f\"Napraw nastepujące zdanie, tak aby pisownia i gramatyka była poprawna, dokonując jak najmniej zmian:{doc[old_token.i - 1].text + old_token_text}\", api_key)\n",
    "    #             #\n",
    "    #             # elif(len(doc)==1):\n",
    "    #             #     index=0\n",
    "    #             #     print('got here 3')\n",
    "    #             #     response_text = chat_gpt_query(f\"Napraw nastepujące zdanie, tak aby pisownia i gramatyka była poprawna, dokonując jak najmniej zmian:{ old_token }\", api_key)\n",
    "    #             #\n",
    "    #             # elif(old_token.i==0 and len(doc)!=1):\n",
    "    #             #     print('got here 4')\n",
    "    #             #     index=0\n",
    "    #             #     response_text = chat_gpt_query(f\"Napraw nastepujące zdanie, tak aby pisownia i gramatyka była poprawna, dokonując jak najmniej zmian:{old_token_text+doc[old_token.i +1].text }\", api_key)\n",
    "    #\n",
    "    #\n",
    "    #\n",
    "    #             # if(len(doc2)==1):\n",
    "    #             #     old_token_text=doc2[0].text\n",
    "    #             #\n",
    "    #             # elif(len(doc2)>1):\n",
    "    #             #     old_token_text=doc2[index-1].text\n",
    "    #\n",
    "    #\n",
    "    #             # print(f\"{old_token_text}_pass_this\")\n",
    "    #             # # if(len(doc2)>1):\n",
    "    #             # l.append(doc2[1].text)\n",
    "    #             #     print(\"made it 1\")\n",
    "    #             # elif(len(doc2)<=1):\n",
    "    #             #     print(\"made it 2\")\n",
    "    #             #     l.append(doc2[0].text)\n",
    "    #     else:\n",
    "    #\n",
    "    #         if(old_token_text=='.' or old_token._.is_gamer_entity or old_token_text==',' and old_token_text== '?'and old_token_text=='\"'):\n",
    "    #                 # print(\"alt option\")\n",
    "    #                 l.append(old_token_text)\n",
    "    #     # i+=1\n",
    "    #\n",
    "    #\n",
    "    # # print(\"near the end\")\n",
    "    # spaces=[]\n",
    "    # for word in l:\n",
    "    #     print(word)\n",
    "    #     spaces.append(True)\n",
    "    # # print(\"pre doc\")\n",
    "    # doc2 = Doc(nlp.vocab, words=l, spaces=spaces)\n",
    "    # # if(break_hit):\n",
    "    # #     spaces.clear()\n",
    "    # #     response_text = chat_gpt_query(f\"Napraw nastepujące zdanie, tak aby pisownia i gramatyka była poprawna, próbując dokonać jak najmniej zmian: '{doc.text}'\", api_key)\n",
    "    # #     words=response_text.split()\n",
    "    # #     for word in words:\n",
    "    # #         spaces.append(True)\n",
    "    # #     doc = Doc(nlp.vocab, words=words, spaces=spaces)\n",
    "    # print(f\"{doc.text} final\")\n",
    "    # # print(\"end\")\n",
    "    # return (doc2)\n",
    "\n",
    "                        #skipp the rest of the sentence  here !!!\n",
    "def SpellContextCheck(df):\n",
    "   \n",
    "    for item in [f'nlp_{i}' for i in range(2, 6)]:\n",
    "       \n",
    "         text_data = df[item].apply(lambda x:nlp(x))\n",
    "         df[item]=text_data\n",
    "     \n",
    "         print(f\"{text_data}_recieved\")\n",
    "    return df\n",
    "\n",
    "custom_sentencizer = Sentencizer(punct_chars=[\".\"])\n",
    "nlp.add_pipe(\"pl_double_check\", after='ner')\n",
    "nlp.add_pipe(\"sentencizer\", before=\"pl_double_check\")\n",
    "nlp.remove_pipe(\"parser\")\n",
    "nlp.add_pipe(\"gg_ner\", before=\"pl_double_check\")\n",
    "\n",
    "# nlp(\"domowników\")\n",
    "DATASET_CHECK='NLP_CONNECTED.xlsx'\n",
    "df = pd.read_excel(io=DATASET_CHECK)\n",
    "\n",
    "df= SpellContextCheck(df)\n",
    "# Read(df)\n",
    "df.to_excel('NLP_CONNECTED.xlsx', index=False)\n",
    "\n"
   ]
  },
  {
   "cell_type": "code",
   "execution_count": 2,
   "outputs": [
    {
     "data": {
      "text/plain": "True"
     },
     "execution_count": 2,
     "metadata": {},
     "output_type": "execute_result"
    }
   ],
   "source": [
    "def cmp(word1, word2):\n",
    "    if word1.lower() != word2.lower():\n",
    "        return True\n",
    "    return False\n",
    "\n",
    "def compare(df_clean, df_corrected):\n",
    "    with open(\"results.txt\", \"w\", encoding=\"utf-8\") as f:\n",
    "        for item in [f'nlp_{i}' for i in range(2, 6)]:\n",
    "            for index,(word1, word2) in enumerate(zip(df_clean[item], df_corrected[item])):\n",
    "                if cmp(str(word1), str(word2)):\n",
    "                    f.write(f\"[ [{index+1}] {word1} => {word2}]\\n\")\n",
    "    return True\n",
    "\n",
    "DATASET_CLEAN = 'NLP_CLEAN.xlsx'\n",
    "DATASET_CHECK = 'NLP_CONNECTED.xlsx'\n",
    "df_clean = pd.read_excel(io=DATASET_CLEAN)\n",
    "df_checked = pd.read_excel(io=DATASET_CHECK)\n",
    "compare(df_clean, df_checked)\n",
    "# nlp_clean(\"Pozw.\")"
   ],
   "metadata": {
    "collapsed": false,
    "ExecuteTime": {
     "start_time": "2023-04-19T16:13:08.676429Z",
     "end_time": "2023-04-19T16:13:08.947238Z"
    }
   }
  },
  {
   "cell_type": "markdown",
   "metadata": {},
   "source": []
  },
  {
   "cell_type": "code",
   "execution_count": 3,
   "metadata": {},
   "outputs": [],
   "source": [
    "X_string = 'nlp_2', 'nlp_3', 'nlp_4', 'nlp_5'\n",
    "Y_string = 'GDT_score'\n",
    "DATASET = 'NLP_CLEAN.xlsx'"
   ]
  },
  {
   "cell_type": "code",
   "execution_count": 4,
   "metadata": {},
   "outputs": [],
   "source": [
    "def del_short_responses(df):\n",
    "    print(len(df))\n",
    "\n",
    "    for item in [f'nlp_{i}' for i in range(2, 6)]:\n",
    "        df = df[df[item].apply(lambda x: len(x) > 10)]\n",
    "        print(len(df))\n",
    "\n",
    "    return df"
   ]
  },
  {
   "cell_type": "code",
   "execution_count": 9,
   "metadata": {},
   "outputs": [
    {
     "name": "stdout",
     "output_type": "stream",
     "text": [
      "469\n",
      "468\n",
      "460\n",
      "449\n",
      "433\n"
     ]
    }
   ],
   "source": [
    "\n",
    "df = pd.read_excel(io=DATASET)\n",
    "df = df[df['time'] > 300]\n",
    "df = df[df['label'] != 1]\n",
    "df = del_short_responses(df)"
   ]
  },
  {
   "cell_type": "code",
   "execution_count": 10,
   "metadata": {},
   "outputs": [
    {
     "ename": "FileNotFoundError",
     "evalue": "[Errno 2] No such file or directory: 'NLP_PILOT.XLSX'",
     "output_type": "error",
     "traceback": [
      "\u001B[0;31m---------------------------------------------------------------------------\u001B[0m",
      "\u001B[0;31mFileNotFoundError\u001B[0m                         Traceback (most recent call last)",
      "Cell \u001B[0;32mIn[10], line 1\u001B[0m\n\u001B[0;32m----> 1\u001B[0m df_pilot \u001B[39m=\u001B[39m pd\u001B[39m.\u001B[39;49mread_excel(\u001B[39m'\u001B[39;49m\u001B[39mNLP_PILOT.XLSX\u001B[39;49m\u001B[39m'\u001B[39;49m)\n\u001B[1;32m      2\u001B[0m df_pilot \u001B[39m=\u001B[39m del_short_responses(df_pilot)\n",
      "File \u001B[0;32m~/.local/lib/python3.8/site-packages/pandas/util/_decorators.py:211\u001B[0m, in \u001B[0;36mdeprecate_kwarg.<locals>._deprecate_kwarg.<locals>.wrapper\u001B[0;34m(*args, **kwargs)\u001B[0m\n\u001B[1;32m    209\u001B[0m     \u001B[39melse\u001B[39;00m:\n\u001B[1;32m    210\u001B[0m         kwargs[new_arg_name] \u001B[39m=\u001B[39m new_arg_value\n\u001B[0;32m--> 211\u001B[0m \u001B[39mreturn\u001B[39;00m func(\u001B[39m*\u001B[39;49margs, \u001B[39m*\u001B[39;49m\u001B[39m*\u001B[39;49mkwargs)\n",
      "File \u001B[0;32m~/.local/lib/python3.8/site-packages/pandas/util/_decorators.py:331\u001B[0m, in \u001B[0;36mdeprecate_nonkeyword_arguments.<locals>.decorate.<locals>.wrapper\u001B[0;34m(*args, **kwargs)\u001B[0m\n\u001B[1;32m    325\u001B[0m \u001B[39mif\u001B[39;00m \u001B[39mlen\u001B[39m(args) \u001B[39m>\u001B[39m num_allow_args:\n\u001B[1;32m    326\u001B[0m     warnings\u001B[39m.\u001B[39mwarn(\n\u001B[1;32m    327\u001B[0m         msg\u001B[39m.\u001B[39mformat(arguments\u001B[39m=\u001B[39m_format_argument_list(allow_args)),\n\u001B[1;32m    328\u001B[0m         \u001B[39mFutureWarning\u001B[39;00m,\n\u001B[1;32m    329\u001B[0m         stacklevel\u001B[39m=\u001B[39mfind_stack_level(),\n\u001B[1;32m    330\u001B[0m     )\n\u001B[0;32m--> 331\u001B[0m \u001B[39mreturn\u001B[39;00m func(\u001B[39m*\u001B[39;49margs, \u001B[39m*\u001B[39;49m\u001B[39m*\u001B[39;49mkwargs)\n",
      "File \u001B[0;32m~/.local/lib/python3.8/site-packages/pandas/io/excel/_base.py:482\u001B[0m, in \u001B[0;36mread_excel\u001B[0;34m(io, sheet_name, header, names, index_col, usecols, squeeze, dtype, engine, converters, true_values, false_values, skiprows, nrows, na_values, keep_default_na, na_filter, verbose, parse_dates, date_parser, thousands, decimal, comment, skipfooter, convert_float, mangle_dupe_cols, storage_options)\u001B[0m\n\u001B[1;32m    480\u001B[0m \u001B[39mif\u001B[39;00m \u001B[39mnot\u001B[39;00m \u001B[39misinstance\u001B[39m(io, ExcelFile):\n\u001B[1;32m    481\u001B[0m     should_close \u001B[39m=\u001B[39m \u001B[39mTrue\u001B[39;00m\n\u001B[0;32m--> 482\u001B[0m     io \u001B[39m=\u001B[39m ExcelFile(io, storage_options\u001B[39m=\u001B[39;49mstorage_options, engine\u001B[39m=\u001B[39;49mengine)\n\u001B[1;32m    483\u001B[0m \u001B[39melif\u001B[39;00m engine \u001B[39mand\u001B[39;00m engine \u001B[39m!=\u001B[39m io\u001B[39m.\u001B[39mengine:\n\u001B[1;32m    484\u001B[0m     \u001B[39mraise\u001B[39;00m \u001B[39mValueError\u001B[39;00m(\n\u001B[1;32m    485\u001B[0m         \u001B[39m\"\u001B[39m\u001B[39mEngine should not be specified when passing \u001B[39m\u001B[39m\"\u001B[39m\n\u001B[1;32m    486\u001B[0m         \u001B[39m\"\u001B[39m\u001B[39man ExcelFile - ExcelFile already has the engine set\u001B[39m\u001B[39m\"\u001B[39m\n\u001B[1;32m    487\u001B[0m     )\n",
      "File \u001B[0;32m~/.local/lib/python3.8/site-packages/pandas/io/excel/_base.py:1652\u001B[0m, in \u001B[0;36mExcelFile.__init__\u001B[0;34m(self, path_or_buffer, engine, storage_options)\u001B[0m\n\u001B[1;32m   1650\u001B[0m     ext \u001B[39m=\u001B[39m \u001B[39m\"\u001B[39m\u001B[39mxls\u001B[39m\u001B[39m\"\u001B[39m\n\u001B[1;32m   1651\u001B[0m \u001B[39melse\u001B[39;00m:\n\u001B[0;32m-> 1652\u001B[0m     ext \u001B[39m=\u001B[39m inspect_excel_format(\n\u001B[1;32m   1653\u001B[0m         content_or_path\u001B[39m=\u001B[39;49mpath_or_buffer, storage_options\u001B[39m=\u001B[39;49mstorage_options\n\u001B[1;32m   1654\u001B[0m     )\n\u001B[1;32m   1655\u001B[0m     \u001B[39mif\u001B[39;00m ext \u001B[39mis\u001B[39;00m \u001B[39mNone\u001B[39;00m:\n\u001B[1;32m   1656\u001B[0m         \u001B[39mraise\u001B[39;00m \u001B[39mValueError\u001B[39;00m(\n\u001B[1;32m   1657\u001B[0m             \u001B[39m\"\u001B[39m\u001B[39mExcel file format cannot be determined, you must specify \u001B[39m\u001B[39m\"\u001B[39m\n\u001B[1;32m   1658\u001B[0m             \u001B[39m\"\u001B[39m\u001B[39man engine manually.\u001B[39m\u001B[39m\"\u001B[39m\n\u001B[1;32m   1659\u001B[0m         )\n",
      "File \u001B[0;32m~/.local/lib/python3.8/site-packages/pandas/io/excel/_base.py:1525\u001B[0m, in \u001B[0;36minspect_excel_format\u001B[0;34m(content_or_path, storage_options)\u001B[0m\n\u001B[1;32m   1522\u001B[0m \u001B[39mif\u001B[39;00m \u001B[39misinstance\u001B[39m(content_or_path, \u001B[39mbytes\u001B[39m):\n\u001B[1;32m   1523\u001B[0m     content_or_path \u001B[39m=\u001B[39m BytesIO(content_or_path)\n\u001B[0;32m-> 1525\u001B[0m \u001B[39mwith\u001B[39;00m get_handle(\n\u001B[1;32m   1526\u001B[0m     content_or_path, \u001B[39m\"\u001B[39;49m\u001B[39mrb\u001B[39;49m\u001B[39m\"\u001B[39;49m, storage_options\u001B[39m=\u001B[39;49mstorage_options, is_text\u001B[39m=\u001B[39;49m\u001B[39mFalse\u001B[39;49;00m\n\u001B[1;32m   1527\u001B[0m ) \u001B[39mas\u001B[39;00m handle:\n\u001B[1;32m   1528\u001B[0m     stream \u001B[39m=\u001B[39m handle\u001B[39m.\u001B[39mhandle\n\u001B[1;32m   1529\u001B[0m     stream\u001B[39m.\u001B[39mseek(\u001B[39m0\u001B[39m)\n",
      "File \u001B[0;32m~/.local/lib/python3.8/site-packages/pandas/io/common.py:865\u001B[0m, in \u001B[0;36mget_handle\u001B[0;34m(path_or_buf, mode, encoding, compression, memory_map, is_text, errors, storage_options)\u001B[0m\n\u001B[1;32m    856\u001B[0m         handle \u001B[39m=\u001B[39m \u001B[39mopen\u001B[39m(\n\u001B[1;32m    857\u001B[0m             handle,\n\u001B[1;32m    858\u001B[0m             ioargs\u001B[39m.\u001B[39mmode,\n\u001B[0;32m   (...)\u001B[0m\n\u001B[1;32m    861\u001B[0m             newline\u001B[39m=\u001B[39m\u001B[39m\"\u001B[39m\u001B[39m\"\u001B[39m,\n\u001B[1;32m    862\u001B[0m         )\n\u001B[1;32m    863\u001B[0m     \u001B[39melse\u001B[39;00m:\n\u001B[1;32m    864\u001B[0m         \u001B[39m# Binary mode\u001B[39;00m\n\u001B[0;32m--> 865\u001B[0m         handle \u001B[39m=\u001B[39m \u001B[39mopen\u001B[39;49m(handle, ioargs\u001B[39m.\u001B[39;49mmode)\n\u001B[1;32m    866\u001B[0m     handles\u001B[39m.\u001B[39mappend(handle)\n\u001B[1;32m    868\u001B[0m \u001B[39m# Convert BytesIO or file objects passed with an encoding\u001B[39;00m\n",
      "\u001B[0;31mFileNotFoundError\u001B[0m: [Errno 2] No such file or directory: 'NLP_PILOT.XLSX'"
     ]
    }
   ],
   "source": [
    "df_pilot = pd.read_excel('NLP_PILOT.xlsx')\n",
    "df_pilot = del_short_responses(df_pilot)"
   ]
  },
  {
   "cell_type": "code",
   "execution_count": 7,
   "metadata": {},
   "outputs": [],
   "source": [
    "from typing import Callable, List, Optional, Tuple\n",
    "from sklearn.base import TransformerMixin, BaseEstimator\n",
    "import torch\n",
    "from IPython.display import clear_output\n",
    "import pandas as pd\n",
    "\n",
    "class BertTransformer(BaseEstimator, TransformerMixin):\n",
    "    def __init__(self, bert_tokenizer, bert_model, max_length):\n",
    "\n",
    "        self.bert_tokenizer = bert_tokenizer\n",
    "        self.bert_model = bert_model\n",
    "        self.bert_model.eval()\n",
    "        self.max_length = max_length\n",
    "        # self.embedding_func = lambda x: torch.flatten(x[0])\n",
    "        self.embedding_func = lambda x: torch.mean(x[0], dim=1).squeeze()\n",
    "        # self.embedding_func = lambda x: x[0][:, 0, :].squeeze()\n",
    "\n",
    "    def _tokenize(self, text: str) -> Tuple[torch.tensor, torch.tensor]:\n",
    "        tokenized_text = self.bert_tokenizer.encode_plus(text,\n",
    "                                                         add_special_tokens=True,\n",
    "                                                         max_length=self.max_length\n",
    "                                                         )[\"input_ids\"]\n",
    "\n",
    "        attention_mask = [1] * len(tokenized_text)\n",
    "\n",
    "        return (\n",
    "            torch.tensor(tokenized_text).unsqueeze(0),\n",
    "            torch.tensor(attention_mask).unsqueeze(0),\n",
    "        )\n",
    "\n",
    "    def _tokenize_and_predict(self, text: str, progress) -> torch.tensor:\n",
    "        \n",
    "        \n",
    "        print(progress, flush=True)\n",
    "        \n",
    "        tokenized, attention_mask = self._tokenize(text)\n",
    "\n",
    "        embeddings = self.bert_model(tokenized, attention_mask)\n",
    "        \n",
    "        clear_output(wait=True)\n",
    "        return self.embedding_func(embeddings)\n",
    "\n",
    "    def transform(self, text: List[str]):\n",
    "        if isinstance(text, pd.Series):\n",
    "            text = text.tolist()\n",
    "\n",
    "        with torch.no_grad():\n",
    "            return torch.stack([self._tokenize_and_predict(string, f'{text.index(string) + 1}/{len(text)}') for string in text])"
   ]
  },
  {
   "cell_type": "code",
   "execution_count": 8,
   "metadata": {},
   "outputs": [],
   "source": [
    "bert_transformer = BertTransformer(tokenizer, bert_model, max_length=60)"
   ]
  },
  {
   "cell_type": "code",
   "execution_count": 9,
   "metadata": {},
   "outputs": [],
   "source": [
    "def transform_and_stack(df, arguments=X_string, transformer=bert_transformer):\n",
    "    tokenized_X_list = []\n",
    "\n",
    "    for item in arguments:\n",
    "\n",
    "        item_processed = transformer.transform(list(df[item]))\n",
    "        tokenized_X_list.append(item_processed)\n",
    "        print(f'{item} added to list')\n",
    "        time.sleep(0.5)\n",
    "\n",
    "    tokized_X_tuple = tuple(tokenized_X_list)\n",
    "\n",
    "    X = np.hstack(tokized_X_tuple)\n",
    "    y = df[Y_string].values\n",
    "    return X, y"
   ]
  },
  {
   "cell_type": "code",
   "execution_count": 10,
   "metadata": {},
   "outputs": [
    {
     "name": "stdout",
     "output_type": "stream",
     "text": [
      "nlp_5 added to list\n"
     ]
    }
   ],
   "source": [
    "X_main, y_main = transform_and_stack(df)"
   ]
  },
  {
   "cell_type": "code",
   "execution_count": 11,
   "metadata": {},
   "outputs": [
    {
     "name": "stdout",
     "output_type": "stream",
     "text": [
      "nlp_5 added to list\n"
     ]
    }
   ],
   "source": [
    "X_pilot, y_pilot = transform_and_stack(df_pilot)"
   ]
  },
  {
   "attachments": {},
   "cell_type": "markdown",
   "metadata": {},
   "source": [
    "SVR SECTION"
   ]
  },
  {
   "cell_type": "code",
   "execution_count": 12,
   "metadata": {},
   "outputs": [],
   "source": [
    "from sklearn.model_selection import KFold\n",
    "from sklearn.metrics import mean_absolute_error\n",
    "\n",
    "kfold = KFold(n_splits=10, shuffle=True, random_state=8)"
   ]
  },
  {
   "cell_type": "code",
   "execution_count": 13,
   "metadata": {},
   "outputs": [
    {
     "data": {
      "text/plain": [
       "PearsonRResult(statistic=0.4872110446730373, pvalue=3.401300133271622e-27)"
      ]
     },
     "execution_count": 13,
     "metadata": {},
     "output_type": "execute_result"
    }
   ],
   "source": [
    "from sklearn import svm\n",
    "from sklearn.linear_model import LinearRegression, Ridge\n",
    "\n",
    "SVR_function = svm.SVR(kernel='linear', C=0.0255, tol=1e-3)\n",
    "# SVR_function = svm.LinearSVR(random_state=0, tol=1e-3, max_iter=2000, C=0.0255)\n",
    "# SVR_function = LinearRegression()\n",
    "# SVR_function = Ridge(alpha=200)\n",
    "\n",
    "y_main_true = []\n",
    "SVR_predictions = []\n",
    "\n",
    "\n",
    "for train_index, test_index in kfold.split(X_main):\n",
    "\n",
    "    X_train, X_test = X_main[train_index], X_main[test_index]\n",
    "    y_train, y_test = y_main[train_index], y_main[test_index]\n",
    "\n",
    "    vector_regression = SVR_function\n",
    "    vector_regression.fit(X_train, y_train)\n",
    "    SVR_prediction = vector_regression.predict(X_test)\n",
    "    SVR_predictions = np.concatenate((SVR_predictions, SVR_prediction))\n",
    "\n",
    "    y_main_true = np.concatenate((y_main_true, y_test))\n",
    "\n",
    "stats.pearsonr(SVR_predictions, y_main_true)"
   ]
  },
  {
   "cell_type": "code",
   "execution_count": 14,
   "metadata": {},
   "outputs": [],
   "source": [
    "def present_results(prediction, true_values):\n",
    "        \n",
    "    print(f'MAE: {mean_absolute_error(prediction, true_values)}')\n",
    "    print(stats.pearsonr(prediction, true_values))\n",
    "    \n",
    "    prediction = [item if item >= 4 else 4 for item in prediction]\n",
    "    prediction = [item if item <= 20 else 20 for item in prediction]\n",
    "\n",
    "    answers_tuples = [(y, res) for y, res in zip(true_values, prediction)]\n",
    "    sorted_tuples = sorted(answers_tuples, key=lambda x: x[0])\n",
    "\n",
    "    sorted_results = [x[1] for x in sorted_tuples]\n",
    "\n",
    "    true_values = [x[0] for x in sorted_tuples]\n",
    "    prediction = [round(int(item)) for item in sorted_results]\n",
    "\n",
    "    plt.figure(figsize=(10, 7))\n",
    "    plt.plot(range(len(prediction)), prediction, 'o', color=[1, 0, 0, 0.7], label=\"Prediction\")\n",
    "    plt.plot(range(len(true_values)), true_values, 'o', color=[0, 1, 0, 0.5], label='Observable data')\n",
    "    plt.legend(loc='upper left')\n",
    "    plt.title('Connected predictions vs real data')\n",
    "    plt.show()"
   ]
  },
  {
   "cell_type": "code",
   "execution_count": 15,
   "metadata": {},
   "outputs": [
    {
     "name": "stdout",
     "output_type": "stream",
     "text": [
      "MAE: 2.429082609492499\n",
      "PearsonRResult(statistic=0.4872110446730373, pvalue=3.401300133271622e-27)\n"
     ]
    },
    {
     "data": {
      "image/png": "[encoded data removed]",
      "text/plain": [
       "<Figure size 720x504 with 1 Axes>"
      ]
     },
     "metadata": {
      "needs_background": "light"
     },
     "output_type": "display_data"
    }
   ],
   "source": [
    "# K FOLD\n",
    "present_results(SVR_predictions, y_main_true)"
   ]
  },
  {
   "cell_type": "code",
   "execution_count": 16,
   "metadata": {},
   "outputs": [
    {
     "name": "stdout",
     "output_type": "stream",
     "text": [
      "MAE: 3.2882121701235643\n",
      "PearsonRResult(statistic=0.2666998173434987, pvalue=0.010605088031119281)\n"
     ]
    },
    {
     "data": {
      "image/png": "[encoded data removed]",
      "text/plain": [
       "<Figure size 720x504 with 1 Axes>"
      ]
     },
     "metadata": {
      "needs_background": "light"
     },
     "output_type": "display_data"
    }
   ],
   "source": [
    "# EVAL DATASET\n",
    "SVR_pilot_model = SVR_function\n",
    "SVR_pilot_model.fit(X_main, y_main)\n",
    "SVR_pilot_predictions = SVR_function.predict(X_pilot)\n",
    "present_results(SVR_pilot_predictions, y_pilot)"
   ]
  },
  {
   "attachments": {},
   "cell_type": "markdown",
   "metadata": {},
   "source": [
    "NEURAL NETWORKS SECTION"
   ]
  },
  {
   "cell_type": "code",
   "execution_count": 17,
   "metadata": {},
   "outputs": [],
   "source": [
    "import tensorflow as tf\n",
    "import random as python_random\n",
    "\n",
    "def create_model():\n",
    "    np.random.seed(123)\n",
    "    python_random.seed(123)\n",
    "    tf.random.set_seed(1234)\n",
    "    keras_model = tf.keras.Sequential([\n",
    "                        tf.keras.layers.Dense(64, activation='sigmoid', kernel_regularizer=tf.keras.regularizers.l2(0.01)),\n",
    "                        tf.keras.layers.Dense(32, activation='relu'),\n",
    "                        tf.keras.layers.Flatten(),\n",
    "                        tf.keras.layers.Dense(units=1)\n",
    "                        ])\n",
    "\n",
    "    keras_model.compile(optimizer=tf.keras.optimizers.SGD(learning_rate=0.001, momentum=0.9), loss='mean_absolute_error')\n",
    "    return keras_model"
   ]
  },
  {
   "cell_type": "code",
   "execution_count": 18,
   "metadata": {},
   "outputs": [
    {
     "name": "stdout",
     "output_type": "stream",
     "text": [
      "2/2 [==============================] - 0s 10ms/step\n",
      "PearsonRResult(statistic=0.45649519458282123, pvalue=0.0018418264432598461)\n",
      "2/2 [==============================] - 0s 0s/step\n",
      "PearsonRResult(statistic=0.5566368763404254, pvalue=8.714339670524769e-05)\n",
      "2/2 [==============================] - 0s 10ms/step\n",
      "PearsonRResult(statistic=0.571243099205797, pvalue=5.128258658018283e-05)\n",
      "2/2 [==============================] - 0s 10ms/step\n",
      "PearsonRResult(statistic=0.3004607634973251, pvalue=0.05026602905636091)\n",
      "WARNING:tensorflow:5 out of the last 9 calls to <function Model.make_predict_function.<locals>.predict_function at 0x000001EA9E550940> triggered tf.function retracing. Tracing is expensive and the excessive number of tracings could be due to (1) creating @tf.function repeatedly in a loop, (2) passing tensors with different shapes, (3) passing Python objects instead of tensors. For (1), please define your @tf.function outside of the loop. For (2), @tf.function has reduce_retracing=True option that can avoid unnecessary retracing. For (3), please refer to https://www.tensorflow.org/guide/function#controlling_retracing and https://www.tensorflow.org/api_docs/python/tf/function for  more details.\n",
      "2/2 [==============================] - 0s 10ms/step\n",
      "PearsonRResult(statistic=0.5351179762453737, pvalue=0.00021802022849224016)\n",
      "WARNING:tensorflow:6 out of the last 11 calls to <function Model.make_predict_function.<locals>.predict_function at 0x000001EAAAFE8310> triggered tf.function retracing. Tracing is expensive and the excessive number of tracings could be due to (1) creating @tf.function repeatedly in a loop, (2) passing tensors with different shapes, (3) passing Python objects instead of tensors. For (1), please define your @tf.function outside of the loop. For (2), @tf.function has reduce_retracing=True option that can avoid unnecessary retracing. For (3), please refer to https://www.tensorflow.org/guide/function#controlling_retracing and https://www.tensorflow.org/api_docs/python/tf/function for  more details.\n",
      "2/2 [==============================] - 0s 10ms/step\n",
      "PearsonRResult(statistic=0.6089248720313127, pvalue=1.471928834788328e-05)\n",
      "2/2 [==============================] - 0s 8ms/step\n",
      "PearsonRResult(statistic=0.5709950510706364, pvalue=6.374242201890538e-05)\n",
      "2/2 [==============================] - 0s 10ms/step\n",
      "PearsonRResult(statistic=0.49521191678296156, pvalue=0.000734923021811101)\n",
      "2/2 [==============================] - 0s 10ms/step\n",
      "PearsonRResult(statistic=0.44473885647253364, pvalue=0.0028076675293225574)\n",
      "2/2 [==============================] - 0s 5ms/step\n",
      "PearsonRResult(statistic=0.43054345322446885, pvalue=0.003952243307251729)\n"
     ]
    },
    {
     "data": {
      "text/plain": [
       "PearsonRResult(statistic=0.4592104144691441, pvalue=5.6725272561290936e-24)"
      ]
     },
     "execution_count": 18,
     "metadata": {},
     "output_type": "execute_result"
    }
   ],
   "source": [
    "keras_predictions = []\n",
    "\n",
    "for train_index, test_index in kfold.split(X_main):\n",
    "    X_train, X_test = X_main[train_index], X_main[test_index]\n",
    "    y_train, y_test = y_main[train_index], y_main[test_index]\n",
    "    \n",
    "    model = create_model()\n",
    "    model.fit(X_train, y_train, batch_size=64, epochs=200, verbose=0)\n",
    "    keras_prediction = model.predict(X_test).flatten()\n",
    "\n",
    "    keras_predictions = np.concatenate((keras_predictions, keras_prediction))\n",
    "    print(stats.pearsonr(keras_prediction, y_test))\n",
    "    \n",
    "stats.pearsonr(y_main_true, keras_predictions)"
   ]
  },
  {
   "cell_type": "code",
   "execution_count": 19,
   "metadata": {},
   "outputs": [
    {
     "name": "stdout",
     "output_type": "stream",
     "text": [
      "MAE: 2.4704474246529453\n",
      "PearsonRResult(statistic=0.4592104144691441, pvalue=5.6725272561290936e-24)\n"
     ]
    },
    {
     "data": {
      "image/png": "[encoded data removed]",
      "text/plain": [
       "<Figure size 720x504 with 1 Axes>"
      ]
     },
     "metadata": {
      "needs_background": "light"
     },
     "output_type": "display_data"
    }
   ],
   "source": [
    "present_results(keras_predictions, y_main_true)"
   ]
  },
  {
   "cell_type": "code",
   "execution_count": 20,
   "metadata": {},
   "outputs": [
    {
     "name": "stdout",
     "output_type": "stream",
     "text": [
      "3/3 [==============================] - 0s 0s/step\n",
      "MAE: 4.012464701474368\n",
      "PearsonRResult(statistic=0.2869915983827975, pvalue=0.005812866397896812)\n"
     ]
    },
    {
     "data": {
      "image/png": "[encoded data removed]",
      "text/plain": [
       "<Figure size 720x504 with 1 Axes>"
      ]
     },
     "metadata": {
      "needs_background": "light"
     },
     "output_type": "display_data"
    }
   ],
   "source": [
    "# EVAL DATASET\n",
    "\n",
    "keras_eval_model = create_model()\n",
    "keras_eval_model.fit(X_main, y_main, batch_size=64, epochs=200, verbose=0)\n",
    "keras_pilot_predictions = keras_eval_model.predict(X_pilot).flatten()\n",
    "present_results(keras_pilot_predictions, y_pilot)\n"
   ]
  },
  {
   "attachments": {},
   "cell_type": "markdown",
   "metadata": {},
   "source": [
    "CONNECTING RESULTS"
   ]
  },
  {
   "cell_type": "code",
   "execution_count": 21,
   "metadata": {},
   "outputs": [
    {
     "name": "stdout",
     "output_type": "stream",
     "text": [
      "MAE: 2.428875188389137\n",
      "PearsonRResult(statistic=0.4875903298066905, pvalue=3.0614617422490212e-27)\n"
     ]
    },
    {
     "data": {
      "image/png": "[encoded data removed]",
      "text/plain": [
       "<Figure size 720x504 with 1 Axes>"
      ]
     },
     "metadata": {
      "needs_background": "light"
     },
     "output_type": "display_data"
    }
   ],
   "source": [
    "connected_main = [(k + s)/2 for k, s in zip(keras_predictions, SVR_predictions)]\n",
    "present_results(connected_main, y_main_true)"
   ]
  },
  {
   "cell_type": "code",
   "execution_count": 22,
   "metadata": {},
   "outputs": [
    {
     "name": "stdout",
     "output_type": "stream",
     "text": [
      "MAE: 3.6025994323941752\n",
      "PearsonRResult(statistic=0.28220881439783396, pvalue=0.006724102588255513)\n"
     ]
    },
    {
     "data": {
      "image/png": "[encoded data removed]",
      "text/plain": [
       "<Figure size 720x504 with 1 Axes>"
      ]
     },
     "metadata": {
      "needs_background": "light"
     },
     "output_type": "display_data"
    }
   ],
   "source": [
    "connected_eval = [(k + s)/2 for k, s in zip(keras_pilot_predictions, SVR_pilot_predictions)]\n",
    "present_results(connected_eval, y_pilot)"
   ]
  }
 ],
 "metadata": {
  "kernelspec": {
   "display_name": "Python 3",
   "language": "python",
   "name": "python3"
  },
  "language_info": {
   "codemirror_mode": {
    "name": "ipython",
    "version": 3
   },
   "file_extension": ".py",
   "mimetype": "text/x-python",
   "name": "python",
   "nbconvert_exporter": "python",
   "pygments_lexer": "ipython3",
   "version": "3.10.9"
  },
  "orig_nbformat": 4,
  "vscode": {
   "interpreter": {
    "hash": "8c3d4d9970fc5c09c50d9318a9c7fbf4d0159e4b28833276f5678ee22bded273"
   }
  }
 },
 "nbformat": 4,
 "nbformat_minor": 2
}
